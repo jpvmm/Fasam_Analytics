{
 "cells": [
  {
   "cell_type": "markdown",
   "metadata": {},
   "source": [
    "# Análise da utilização da cota para o exercício da atividade Parlamentar"
   ]
  },
  {
   "cell_type": "markdown",
   "metadata": {},
   "source": [
    "## Cota Parlamentar"
   ]
  },
  {
   "cell_type": "markdown",
   "metadata": {},
   "source": [
    "Instituída pelo Ato da Mesa 43/2009, a Cota para o Exercício da Atividade Parlamentar unificou a verba indenizatória (que vigorava desde 2001), a cota de passagens aéreas e a cota postal-telefônica. Visa ao custeio de despesas típicas do exercício do mandato parlamentar.\n",
    "\n",
    "O valor mensal da Cota Parlamentar é utilizado pelo deputado por meio de reembolso; por meio de requisição de serviço postal, no caso de sua utilização na agência dos Correios credenciada pela Câmara dos Deputados; ou por meio de débito automático no valor da Cota, no caso de compra de bilhete aéreo realizada nas companhias aéreas credenciadas. Nesses dois últimos tipos de gasto, não há emissão individual de nota fiscal, uma vez que o contrato é assinado pela Casa.\n",
    "\n",
    "O valor base varia de acordo com o estado e pode ir de R\\\\$ 30.788,66 (DF) a R\\\\$ 45.612,53 (RR), além do salário do deputado, que é em média de R\\\\$ 30 mil. Como o nome sugere, a cota é um valor destinado a auxiliar parlamentares no exercício do seu mandato, com usos diversos, que vão desde alimentação até o fretamento de aeronaves.\n",
    "\n",
    "![Cota](https://cdn-images-1.medium.com/max/800/1*vuekZ9tOz8WGY99ZJqWH1Q.jpeg)\n",
    "\n",
    "* http://www2.camara.leg.br/comunicacao/assessoria-de-imprensa/cota-parlamentar\n",
    "* https://medium.com/data-science-brigade/precisamos-falar-sobre-a-cota-parlamentar-c58a73392148\n",
    "\n",
    "\n",
    "### Operação Serenata de Amor\n",
    "\n",
    "Um projeto aberto que usa ciência de dados - as mesmas tecnologias utilizadas por gigantes como Google, Facebook e Netflix - com a finalidade de fiscalizar gastos públicos e compartilhar as informações de forma acessível a qualquer pessoa.\n",
    "\n",
    "* https://serenata.ai/\n",
    "\n",
    "### Links uteis\n",
    "\n",
    "* Acesso ao site da camara para buscar reenbolsos: http://www.camara.gov.br/cota-parlamentar\n",
    "\n",
    "* Dicionário de dados oficial: http://www2.camara.leg.br/transparencia/cota-para-exercicio-da-atividade-parlamentar/explicacoes-sobre-o-formato-dos-arquivos-xml\n",
    "```\n",
    "'txNomeParlamentar': 'congressperson_name',\n",
    "'idecadastro': 'congressperson_id',\n",
    "'nuCarteiraParlamentar': 'congressperson_document',\n",
    "'nuLegislatura': 'term',\n",
    "'sgUF': 'state',\n",
    "'sgPartido': 'party',\n",
    "'codLegislatura': 'term_id',\n",
    "'numSubCota': 'subquota_number',\n",
    "'txtDescricao': 'subquota_description',\n",
    "'numEspecificacaoSubCota': 'subquota_group_id',\n",
    "'txtDescricaoEspecificacao': 'subquota_group_description',\n",
    "'txtFornecedor': 'supplier',\n",
    "'txtCNPJCPF': 'cnpj_cpf',\n",
    "'txtNumero': 'document_number',\n",
    "'indTipoDocumento': 'document_type',\n",
    "'datEmissao': 'issue_date',\n",
    "'vlrDocumento': 'document_value',\n",
    "'vlrGlosa': 'remark_value',\n",
    "'vlrLiquido': 'net_value',\n",
    "'numMes': 'month',\n",
    "'numAno': 'year',\n",
    "'numParcela': 'installment',\n",
    "'txtPassageiro': 'passenger',\n",
    "'txtTrecho': 'leg_of_the_trip',\n",
    "'numLote': 'batch_number',\n",
    "'numRessarcimento': 'reimbursement_number',\n",
    "'vlrRestituicao': 'reimbursement_value',\n",
    "'nuDeputadoId': 'applicant_id',\n",
    "'ideDocumento': 'document_id',\n",
    "```\n"
   ]
  },
  {
   "cell_type": "markdown",
   "metadata": {},
   "source": [
    "## Baixando Dados"
   ]
  },
  {
   "cell_type": "code",
   "execution_count": null,
   "metadata": {},
   "outputs": [],
   "source": [
    "!wget https://storage.googleapis.com/ms_geral/2018-01-05-reimbursements.csv"
   ]
  },
  {
   "cell_type": "code",
   "execution_count": null,
   "metadata": {},
   "outputs": [],
   "source": [
    "!ls"
   ]
  },
  {
   "cell_type": "markdown",
   "metadata": {},
   "source": [
    "## Começando a Análise"
   ]
  },
  {
   "cell_type": "markdown",
   "metadata": {},
   "source": [
    "### Leitura do Dataset"
   ]
  },
  {
   "cell_type": "code",
   "execution_count": null,
   "metadata": {},
   "outputs": [],
   "source": [
    "import pandas as pd\n",
    "import seaborn as sns\n",
    "import matplotlib.pyplot as plt\n",
    "\n",
    "pd.set_option('display.max_columns', 500)"
   ]
  },
  {
   "cell_type": "code",
   "execution_count": null,
   "metadata": {},
   "outputs": [],
   "source": [
    "df = pd.read_csv('./2018-01-05-reimbursements.csv')\n",
    "\n",
    "df.info()"
   ]
  },
  {
   "cell_type": "code",
   "execution_count": null,
   "metadata": {},
   "outputs": [],
   "source": [
    "# Exibir a sumarização dos dados, ótimo para fazer uma primeira análise das estatísticas descritivas  média, min, max ..\n",
    "df.describe()"
   ]
  },
  {
   "cell_type": "markdown",
   "metadata": {},
   "source": [
    "### Agrupamentos - Total de Reembolso do Parlamentar por Ano"
   ]
  },
  {
   "cell_type": "markdown",
   "metadata": {},
   "source": [
    "Fazer agrupamentos por variáveis \"temporais\" é interessante para criarmos uma timeline de valores\n",
    "\n",
    "Para isso podemos criar funções de agregações customizadas para cada tipo de variável diferente.\n",
    "\n",
    "https://pandas.pydata.org/pandas-docs/stable/reference/api/pandas.DataFrame.aggregate.html\n"
   ]
  },
  {
   "cell_type": "code",
   "execution_count": null,
   "metadata": {},
   "outputs": [],
   "source": [
    "agg_fun ={\n",
    "    'total_net_value': 'sum'\n",
    "}\n",
    "year_sum = df.groupby('year', as_index=False).agg(agg_fun)\n",
    "year_sum"
   ]
  },
  {
   "cell_type": "code",
   "execution_count": null,
   "metadata": {},
   "outputs": [],
   "source": [
    "#Configurando tamanho da imagem\n",
    "sns.set(rc={'figure.figsize':(11.7,8.27)})\n",
    "#Fazendo um plot para análise de gastos por ano\n",
    "sns.lineplot(x='year', y='total_net_value', data = year_sum)"
   ]
  },
  {
   "cell_type": "markdown",
   "metadata": {},
   "source": [
    "O gasto parlamentar com a cota vem aumentando ano a ano, com uma leve queda em 2017.\n",
    "\n",
    "http://g1.globo.com/politica/noticia/2013/03/camara-aumenta-valor-de-cota-parlamentar-e-auxilio-moradia.html"
   ]
  },
  {
   "cell_type": "code",
   "execution_count": null,
   "metadata": {},
   "outputs": [],
   "source": [
    "agg_fun ={\n",
    "    'total_net_value': 'mean'\n",
    "}\n",
    "\n",
    "quota_mean = df.groupby('subquota_description', as_index=False).agg(agg_fun)\n",
    "\n",
    "#Ordenando os valores de forma decrescente\n",
    "quota_mean.sort_values(by='total_net_value', ascending=False)\n"
   ]
  },
  {
   "cell_type": "markdown",
   "metadata": {},
   "source": [
    "Melhorando nossos gráficos: https://www.drawingfromdata.com/how-to-rotate-axis-labels-in-seaborn-and-matplotlib"
   ]
  },
  {
   "cell_type": "code",
   "execution_count": null,
   "metadata": {},
   "outputs": [],
   "source": [
    "chart = sns.barplot(x='subquota_description', y = 'total_net_value', data = quota_mean.sort_values(by='total_net_value', ascending=False))\n",
    "chart.set_xticklabels(chart.get_xticklabels(), rotation=45, horizontalalignment='right');"
   ]
  },
  {
   "cell_type": "markdown",
   "metadata": {},
   "source": [
    "A categoria que tem o maior ticket médio é a de \"Aircharft renting or charter of aircraft\", sendo de ~R$ 9,490.00 por ticket, que inclui compra de passagens e aluguél de aeronaves.. A que tem o menor tícket médio é a de \"Taxi, toll and parking\", que é utilizada para pagamento de corridas de taxi, pedágio e estacionamento."
   ]
  },
  {
   "cell_type": "markdown",
   "metadata": {},
   "source": [
    "### Análise da subquota **'Táxi, pedágio e estacionamento'**\n",
    "\n",
    "Esta é uma Análise Descritiva Exploratória de despesas com transporte local, analisando apenas a subquota específica para resarcimento de Táxi, pedágio e estacionamento.\n",
    "\n",
    "O objetivo é identificar valores que podem ser considerados absurdos e os deputados que mais gastam nessa subquota."
   ]
  },
  {
   "cell_type": "code",
   "execution_count": null,
   "metadata": {},
   "outputs": [],
   "source": [
    "df_taxi = df[df['subquota_description'] == 'Taxi, toll and parking']\n",
    "\n",
    "df_taxi.head()"
   ]
  },
  {
   "cell_type": "code",
   "execution_count": null,
   "metadata": {},
   "outputs": [],
   "source": [
    "df_taxi.info()"
   ]
  },
  {
   "cell_type": "code",
   "execution_count": null,
   "metadata": {},
   "outputs": [],
   "source": [
    "#Sumarização dos dados da categoria\n",
    "df_taxi['net_values'].describe()"
   ]
  },
  {
   "cell_type": "code",
   "execution_count": null,
   "metadata": {},
   "outputs": [],
   "source": [
    "df_taxi['total_net_value'].describe()"
   ]
  },
  {
   "cell_type": "markdown",
   "metadata": {},
   "source": [
    "Embora o ticket médio das restituições seja apenas **R\\\\$ 32**, existe pelo menos um com valor totalmente absurdo de **R\\\\$ 2.700** para pagamento de taxi, pedágio e estacionamento."
   ]
  },
  {
   "cell_type": "code",
   "execution_count": null,
   "metadata": {},
   "outputs": [],
   "source": [
    "#Plotando a distribuição de valores de net values\n",
    "sns.distplot(df_taxi['net_values'])"
   ]
  },
  {
   "cell_type": "markdown",
   "metadata": {},
   "source": [
    "Vamos procurar o deputado(a) com o maior valor de ticket médio:"
   ]
  },
  {
   "cell_type": "code",
   "execution_count": null,
   "metadata": {},
   "outputs": [],
   "source": [
    "df_taxi.loc[df_taxi['net_values'].idxmax()]"
   ]
  },
  {
   "cell_type": "markdown",
   "metadata": {},
   "source": [
    "O reenbolso é da **Deputada MAGDA MOFATTO** do PR, no valor de *R$ 2.700* no dia 05/09/2017. Me parece suspeito, e você ?\n",
    "\n",
    "http://www.camara.gov.br/cota-parlamentar/sumarizado?nuDeputadoId=2437&dataInicio=9/2017&dataFim=9/2017&despesa=&nomeHospede=&nomePassageiro=&nomeFornecedor=&cnpjFornecedor=&numDocumento=&sguf=&filtroNivel1=1&filtroNivel2=2&filtroNivel3=3\n"
   ]
  },
  {
   "cell_type": "markdown",
   "metadata": {},
   "source": [
    "Agora, vamos localizar os deputados(as) com os maiores valores de ticket"
   ]
  },
  {
   "cell_type": "code",
   "execution_count": null,
   "metadata": {},
   "outputs": [],
   "source": [
    "df_outliers = df_taxi.nlargest(15, 'net_values')\n",
    "df_outliers"
   ]
  },
  {
   "cell_type": "code",
   "execution_count": null,
   "metadata": {},
   "outputs": [],
   "source": [
    "agg_fun ={\n",
    "    'net_values': 'sum'\n",
    "}\n",
    "\n",
    "outliers_agg = df_outliers.groupby('congressperson_name', as_index=False).agg(agg_fun)\n",
    "\n",
    "#Ordenando os valores de forma decrescente\n",
    "outliers_agg.sort_values(by='net_values', ascending=False)"
   ]
  },
  {
   "cell_type": "code",
   "execution_count": null,
   "metadata": {},
   "outputs": [],
   "source": [
    "chart = sns.barplot(x='congressperson_name', y = 'net_values', data = outliers_agg.sort_values(by='net_values', ascending=False))\n",
    "chart.set_xticklabels(chart.get_xticklabels(), rotation=45, horizontalalignment='right')"
   ]
  },
  {
   "cell_type": "markdown",
   "metadata": {},
   "source": [
    "Sua equipe de 3 pessoas está trabalhando na auditoria da cota parlamentar para o período de 2014 a 2018. O objetivo final da sua análise é apontar possíveis irregularidades nos reembolsos, identificar solicitações suspeitas, deputados que devem ser investigados e partidos com maior índice de irregularidades. Construa uma análise utilizando dados e justificativas plausíveis possa ser utilizada na auditoria.\n",
    "\n",
    "Escolha **três** categorias de cota parlamentar para realizar a análise. A narrativa com os dados e pensamento analítico sobre a categoria e os valores fazem parte da avaliação, que devem responder obrigatoriamente as seguintes perguntas **para cada categoria** analisada:\n",
    "\n",
    "* Quais solicitações de reembolso são suspeitas ?\n",
    "* Das solicitações suspeitas, escolha uma para analisar mais afundo e justifique o porque devemos indiciar o parlamentar ?\n",
    "* Quais parlamentares devem ser investigados (top 5)?\n",
    "* Quais partidos têm a maior taxa de suspeitos (top 5) ?\n",
    "* Eleja um parlamentar para ser premiado por boa conduta. Justifique sua escolha com dados. \n",
    "\n",
    "Escolha **um** parlamentar de sua preferência (alguém que você votou se lembrar). Analise os gastos específicos desse parlamentar e responda às seguintes perguntas:\n",
    "\n",
    "* O parlamentar gasta a verga completa ou tem um gasto moderado ?\n",
    "* Qual o perfil de gastos do parlamentar, quais categorias o parlamentar mais gasta a verba ?\n",
    "* Existe algum reembolso suspeito em relação às categorias analisadas ?\n",
    "* Analisando as empresas prestadoras de serviços (cnpj_cpf), existe algo suspeito ? "
   ]
  },
  {
   "cell_type": "code",
   "execution_count": null,
   "metadata": {},
   "outputs": [],
   "source": []
  }
 ],
 "metadata": {
  "kernelspec": {
   "display_name": "Python 3",
   "language": "python",
   "name": "python3"
  },
  "language_info": {
   "codemirror_mode": {
    "name": "ipython",
    "version": 3
   },
   "file_extension": ".py",
   "mimetype": "text/x-python",
   "name": "python",
   "nbconvert_exporter": "python",
   "pygments_lexer": "ipython3",
   "version": "3.7.3"
  }
 },
 "nbformat": 4,
 "nbformat_minor": 2
}
