{
 "cells": [
  {
   "cell_type": "markdown",
   "metadata": {},
   "source": [
    "# Análise de Comportamente de Consumidores\n",
    "\n",
    "Nesse trabalho iremos utilizar dados de e-commerce para analisar o comportamento dos clientes, com objetivo de identificar padrões de consumo e grupos que podem presentes nos dados.\n",
    "\n",
    "## Problema\n",
    "\n",
    "Sua empresa tem uma verba de Marketing pequena para esse ano, que no máximo deve conseguir realizar uma campanha para 1000 consumidores. Seu trabalho como analista de dados é identificar padrões de consumo nos dados e segmentar a base de clientes em grupos com características úteis para equipe de marketing.\n",
    "\n",
    "## Exercício\n",
    "\n",
    "* A análise deve ser realizada para os consumidores\n",
    "* Identifique grupos com características específicas nos dados, defina quais características são úteis com base em dois princípios **Fidelidade** e **Valor**.\n",
    "* Apresente a justificativa do grupo identificado na análise, quais características foram levadas em conta e uma sugestão de campanha de marketing\n",
    "\n",
    "\n",
    "![Cota](https://cdn.bpodataentryhelp.com/sites/default/files/u108/Tricks%20for%20Best%20User%20Experience%20Via%20E-commerce%20Data%20Entry%20Form.jpg)\n",
    "\n",
    "## Dataset\n",
    "\n",
    "This is a transnational data set which contains all the transactions occurring between 01/12/2010 and 09/12/2011 for a UK-based and registered non-store online retail.The company mainly sells unique all-occasion gifts. Many customers of the company are wholesalers.\n",
    "\n",
    "\n",
    " * |-- **InvoiceNo**: Código do pedido\n",
    " * |-- **StockCode**: Código da Loja\n",
    " * |-- **Description**: Descrição do Pedido\n",
    " * |-- **Quantity**: Quantidade\n",
    " * |-- **InvoiceDate**: Data do Pedido \n",
    " * |-- **UnitPrice**: Preço do Item\n",
    " * |-- **CustomerID** ID do consumidor\n",
    " * |-- **Country**: País\n",
    " \n",
    "\n",
    "* https://www.kaggle.com/carrie1/ecommerce-data"
   ]
  },
  {
   "cell_type": "code",
   "execution_count": null,
   "metadata": {},
   "outputs": [],
   "source": [
    "import pandas as pd\n",
    "import seaborn as sns\n",
    "import matplotlib.pyplot as plt\n",
    "from sklearn.cluster import KMeans\n",
    "\n",
    "pd.set_option('display.max_columns', 500)"
   ]
  },
  {
   "cell_type": "markdown",
   "metadata": {},
   "source": [
    "## Baixando o Dataset"
   ]
  },
  {
   "cell_type": "code",
   "execution_count": null,
   "metadata": {},
   "outputs": [],
   "source": [
    "!wget https://storage.googleapis.com/ms_geral/customer_dataset.csv"
   ]
  },
  {
   "cell_type": "markdown",
   "metadata": {},
   "source": [
    "## Leitura do Dataset"
   ]
  },
  {
   "cell_type": "code",
   "execution_count": null,
   "metadata": {},
   "outputs": [],
   "source": [
    "df = pd.read_csv('./customer_dataset.csv', encoding=\"ISO-8859-1\", dtype={'CustomerID': str}) #Leitura do dataset\n",
    "\n",
    "df = df.dropna() #Descartando valores nulos"
   ]
  },
  {
   "cell_type": "code",
   "execution_count": null,
   "metadata": {},
   "outputs": [],
   "source": [
    "df.info()"
   ]
  },
  {
   "cell_type": "code",
   "execution_count": null,
   "metadata": {},
   "outputs": [],
   "source": [
    "df.head()"
   ]
  },
  {
   "cell_type": "code",
   "execution_count": null,
   "metadata": {},
   "outputs": [],
   "source": [
    "#Filtrando apenas valores maiores que zero\n",
    "df = df[df.Quantity >= 0]"
   ]
  },
  {
   "cell_type": "code",
   "execution_count": null,
   "metadata": {},
   "outputs": [],
   "source": [
    "#Criando uma nova feature para dataset\n",
    "\n",
    "df['TotalPaid'] = df.Quantity * df.UnitPrice\n",
    "\n",
    "df.head()"
   ]
  },
  {
   "cell_type": "code",
   "execution_count": null,
   "metadata": {},
   "outputs": [],
   "source": [
    "df.describe()"
   ]
  },
  {
   "cell_type": "markdown",
   "metadata": {},
   "source": [
    "### Criação do dataset por Consumidor, agregando informações de consumo.\n",
    "\n",
    "**Dica: ** Crie mais variáveis que caracterizem o perfil de consumo do cliente, quanto mais features melhor as análise de clientes. Tente usar clusterização ou trabalhar com medidas de tendência central para separar os grupos."
   ]
  },
  {
   "cell_type": "code",
   "execution_count": null,
   "metadata": {},
   "outputs": [],
   "source": [
    "df.InvoiceDate  = pd.to_datetime(df.InvoiceDate)\n",
    "\n",
    "df.head()"
   ]
  },
  {
   "cell_type": "code",
   "execution_count": null,
   "metadata": {},
   "outputs": [],
   "source": [
    "#Agrupando por CustomerID\n",
    "\n",
    "agg_func = {\n",
    "    'InvoiceDate':['min'],\n",
    "    'TotalPaid':['sum'],\n",
    "    'CustomerID':['count']\n",
    "}\n",
    "\n",
    "df_customer = df.groupby('CustomerID').agg(agg_func)\n",
    "\n",
    "df_customer.columns= ['_'.join(col).strip() for col in df_customer.columns.values] #Apenas ajustando os nomes das colunas\n",
    "\n",
    "df_customer = df_customer.reset_index()\n",
    "\n",
    "df_customer.head()"
   ]
  },
  {
   "cell_type": "code",
   "execution_count": null,
   "metadata": {},
   "outputs": [],
   "source": [
    "#Dias como consumidor\n",
    "\n",
    "hoje= pd.Timestamp.today()\n",
    "\n",
    "df_customer['DaysAsCustomer'] = hoje - df_customer.InvoiceDate_min\n",
    "\n",
    "df_customer['DaysAsCustomer'] = df_customer['DaysAsCustomer'].apply(lambda x: x.days)\n",
    "df_customer.head()"
   ]
  },
  {
   "cell_type": "code",
   "execution_count": null,
   "metadata": {},
   "outputs": [],
   "source": [
    "#Mais algumas features\n",
    "\n",
    "df_customer['MeanValueByProduct'] = df_customer.TotalPaid_sum/ df_customer.CustomerID_count"
   ]
  },
  {
   "cell_type": "code",
   "execution_count": null,
   "metadata": {},
   "outputs": [],
   "source": [
    "#Selecionando colunas para treinar o modelo kmeans\n",
    "df_input = df_customer.drop('InvoiceDate_min', axis=1)\n",
    "\n",
    "#Criando o modelo\n",
    "kmeans = KMeans(n_clusters = 12, random_state=42)\n",
    "kmeans.fit(df_input)"
   ]
  },
  {
   "cell_type": "code",
   "execution_count": null,
   "metadata": {},
   "outputs": [],
   "source": [
    "labels = kmeans.predict(df_input)"
   ]
  },
  {
   "cell_type": "code",
   "execution_count": null,
   "metadata": {},
   "outputs": [],
   "source": [
    "df_customer['Labels'] = labels"
   ]
  },
  {
   "cell_type": "code",
   "execution_count": null,
   "metadata": {},
   "outputs": [],
   "source": [
    "df_customer.head()"
   ]
  },
  {
   "cell_type": "markdown",
   "metadata": {},
   "source": [
    "### Agrupando os clientes nos clusters identificados:"
   ]
  },
  {
   "cell_type": "code",
   "execution_count": null,
   "metadata": {},
   "outputs": [],
   "source": [
    "df_clusters = df_customer.groupby('Labels').agg('first') #Pegando apenas o primeiro elemento de cada entrada no dataset\n",
    "\n",
    "df_clusters = df_clusters.reset_index()"
   ]
  },
  {
   "cell_type": "code",
   "execution_count": null,
   "metadata": {},
   "outputs": [],
   "source": [
    "df_clusters.head()"
   ]
  },
  {
   "cell_type": "code",
   "execution_count": null,
   "metadata": {},
   "outputs": [],
   "source": []
  }
 ],
 "metadata": {
  "kernelspec": {
   "display_name": "Python 3",
   "language": "python",
   "name": "python3"
  },
  "language_info": {
   "codemirror_mode": {
    "name": "ipython",
    "version": 3
   },
   "file_extension": ".py",
   "mimetype": "text/x-python",
   "name": "python",
   "nbconvert_exporter": "python",
   "pygments_lexer": "ipython3",
   "version": "3.7.3"
  }
 },
 "nbformat": 4,
 "nbformat_minor": 2
}
