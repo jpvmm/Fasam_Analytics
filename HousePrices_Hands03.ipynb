{
 "cells": [
  {
   "cell_type": "markdown",
   "metadata": {},
   "source": [
    "# Análise e previsão de Preco de Imóveis\n",
    "\n",
    "Nesse projeto precisaremos identificar os princiais fatores que influênciam no preço dos imóveis em Boston-USA. O dataset contém diferentes características dos imóveis e o preço de venda.\n",
    "\n",
    "## Exercício\n",
    "\n",
    "* **Identifique** e justifique as 2 principais features que influênciam o preço dos imóveis, tanto positivamente quanto negativamente.\n",
    "* Além de identificar as features, descreva o **quanto** essas features adicionam ou retiram do valor final de venda\n",
    "* Avalie o seu modelo e compare com os colegas\n",
    "\n",
    "![Cota](http://res.cloudinary.com/simpleview/image/upload/v1466799831/clients/boston/c07044da_9483_4fd5_8e37_5b75513dcc80_6b058b6f-7bdc-4f11-b217-4561c07901f3.jpg)\n",
    "\n",
    "Baseado em https://medium.com/@haydar_ai/learning-data-science-day-9-linear-regression-on-boston-housing-dataset-cd62a80775ef"
   ]
  },
  {
   "cell_type": "markdown",
   "metadata": {},
   "source": [
    "### Descrição do Conjunto de Dados\n",
    "\n",
    "* https://archive.ics.uci.edu/ml/datasets/housing\n",
    "\n",
    "![Cota](https://cdn-images-1.medium.com/max/800/1*i9vZk7NkS1dZz6JEcbV5nA.png)\n"
   ]
  },
  {
   "cell_type": "code",
   "execution_count": null,
   "metadata": {},
   "outputs": [],
   "source": [
    "!wget https://storage.googleapis.com/ms_geral/predict_properties_prices/boston.csv"
   ]
  },
  {
   "cell_type": "code",
   "execution_count": null,
   "metadata": {},
   "outputs": [],
   "source": [
    "import pandas as pd\n",
    "import seaborn as sns\n",
    "import matplotlib.pyplot as plt\n",
    "\n",
    "pd.set_option('display.max_columns', 500)\n",
    "sns.set(rc={'figure.figsize':(13.7,9.27)})"
   ]
  },
  {
   "cell_type": "markdown",
   "metadata": {},
   "source": [
    "## Leitura do Dataset"
   ]
  },
  {
   "cell_type": "code",
   "execution_count": null,
   "metadata": {},
   "outputs": [],
   "source": [
    "df = pd.read_csv('./boston.csv')\n",
    "\n",
    "df.head()"
   ]
  },
  {
   "cell_type": "markdown",
   "metadata": {},
   "source": [
    "### Exploração de Dados\n",
    "\n",
    "Explore o dataset antes de pensar no modelo preditivo. Descubra a correlação dos dados, possíveis valores nulos ou fora do padão, outliers que podem atrapalhar a análise ... etc.\n",
    "\n",
    "Lembre o que dataset é um caso real e possivelmente tem problemas que devem ser contornados.\n",
    "\n",
    "#### Links úteis:\n",
    "* Descriptive Statistics For pandas Dataframe: https://chrisalbon.com/python/data_wrangling/pandas_dataframe_descriptive_stats/"
   ]
  },
  {
   "cell_type": "code",
   "execution_count": null,
   "metadata": {},
   "outputs": [],
   "source": [
    "#Correlação entre a coluna IDADE e a coluna PREÇO\n",
    "df.AGE.corr(df.PRICE)"
   ]
  },
  {
   "cell_type": "code",
   "execution_count": null,
   "metadata": {},
   "outputs": [],
   "source": [
    "def plot_corr(columns, dataframe):\n",
    "    # Draw a heatmap with the numeric values in each cell\n",
    "    f, ax = plt.subplots(figsize=(15, 10))\n",
    "    tst = dataframe[columns]\n",
    "    sns.heatmap(tst.corr(), annot=True, fmt='.2f', cmap ='Blues',\n",
    "                linewidths=.5, xticklabels=columns,\n",
    "                yticklabels=columns)"
   ]
  },
  {
   "cell_type": "code",
   "execution_count": null,
   "metadata": {},
   "outputs": [],
   "source": [
    "cols = ['AGE', 'RM', 'PRICE']\n",
    "\n",
    "plot_corr(cols, df)"
   ]
  },
  {
   "cell_type": "markdown",
   "metadata": {},
   "source": [
    "### Regressão Linear\n",
    "\n",
    "Utilize regressão linear para descrever a relação e predizer o valor dos imóveis\n",
    "\n",
    "#### Links úteis:\n",
    "* https://scikit-learn.org/stable/modules/generated/sklearn.linear_model.LinearRegression.html\n",
    "* https://scikit-learn.org/stable/auto_examples/linear_model/plot_ols.html \n"
   ]
  },
  {
   "cell_type": "code",
   "execution_count": null,
   "metadata": {},
   "outputs": [],
   "source": []
  }
 ],
 "metadata": {
  "kernelspec": {
   "display_name": "Python 3",
   "language": "python",
   "name": "python3"
  },
  "language_info": {
   "codemirror_mode": {
    "name": "ipython",
    "version": 3
   },
   "file_extension": ".py",
   "mimetype": "text/x-python",
   "name": "python",
   "nbconvert_exporter": "python",
   "pygments_lexer": "ipython3",
   "version": "3.7.3"
  }
 },
 "nbformat": 4,
 "nbformat_minor": 2
}
